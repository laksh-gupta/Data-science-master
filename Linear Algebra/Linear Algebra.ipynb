{
 "cells": [
  {
   "cell_type": "markdown",
   "metadata": {},
   "source": [
    "# Linera algebra"
   ]
  },
  {
   "cell_type": "markdown",
   "metadata": {},
   "source": [
    "### Vectors"
   ]
  },
  {
   "cell_type": "code",
   "execution_count": 35,
   "metadata": {},
   "outputs": [],
   "source": [
    "import numpy as np"
   ]
  },
  {
   "cell_type": "code",
   "execution_count": 36,
   "metadata": {},
   "outputs": [
    {
     "name": "stdout",
     "output_type": "stream",
     "text": [
      "[[1]\n",
      " [5]\n",
      " [6]]\n",
      "(3, 1)\n"
     ]
    }
   ],
   "source": [
    "##defing a Vector\n",
    "\n",
    "x=np.array([[1],[5],[6]])\n",
    "print(x)\n",
    "print(x.shape)"
   ]
  },
  {
   "cell_type": "markdown",
   "metadata": {},
   "source": [
    "## Matrix\n"
   ]
  },
  {
   "cell_type": "code",
   "execution_count": 40,
   "metadata": {},
   "outputs": [
    {
     "name": "stdout",
     "output_type": "stream",
     "text": [
      "[[  4   5   7  10]\n",
      " [ 10  11  12 111]\n",
      " [ 56  10  90 112]]\n",
      "(3, 4)\n",
      "\n",
      "[[  4   5   7  10  10  11]\n",
      " [ 12 111  56  10  90 112]]\n",
      "(2, 6)\n",
      "transpose:\n",
      "[[  4  12]\n",
      " [  5 111]\n",
      " [  7  56]\n",
      " [ 10  10]\n",
      " [ 10  90]\n",
      " [ 11 112]]\n",
      "(6, 2)\n"
     ]
    }
   ],
   "source": [
    "\n",
    "x = np.array([[4,5,7,10],\n",
    "             [10,11,12,111],\n",
    "             [56,10,90,112]])\n",
    "print(x)\n",
    "print(x.shape)\n",
    "print()\n",
    "x=x.reshape((-1,6))\n",
    "print(x)\n",
    "print(x.shape)\n",
    "print(\"transpose:\")\n",
    "## transpose\n",
    "x=x.T\n",
    "print(x)\n",
    "print(x.shape)\n",
    "\n"
   ]
  },
  {
   "cell_type": "markdown",
   "metadata": {},
   "source": [
    "## Tensor \n",
    "it is a matrix with more than one axis"
   ]
  },
  {
   "cell_type": "code",
   "execution_count": 53,
   "metadata": {},
   "outputs": [
    {
     "name": "stdout",
     "output_type": "stream",
     "text": [
      "[[[0 0 0]\n",
      "  [0 0 0]\n",
      "  [0 0 0]\n",
      "  [0 0 0]\n",
      "  [0 0 0]]\n",
      "\n",
      " [[0 0 0]\n",
      "  [0 0 0]\n",
      "  [0 0 0]\n",
      "  [0 0 0]\n",
      "  [0 0 0]]\n",
      "\n",
      " [[0 0 0]\n",
      "  [0 0 0]\n",
      "  [0 0 0]\n",
      "  [0 0 0]\n",
      "  [0 0 0]]\n",
      "\n",
      " [[0 0 0]\n",
      "  [0 0 0]\n",
      "  [0 0 0]\n",
      "  [0 0 0]\n",
      "  [0 0 0]]\n",
      "\n",
      " [[0 0 0]\n",
      "  [0 0 0]\n",
      "  [0 0 0]\n",
      "  [0 0 0]\n",
      "  [0 0 0]]]\n"
     ]
    }
   ],
   "source": [
    "t = np.zeros((5,5,3),dtype = 'uint8')\n",
    "print(t)\n",
    "\n",
    "##t[ : , : ,1]=255 #yellow\n",
    "##t[ : , : ,2]=255 #Blue\n",
    "t[ : , : ,0]=255 #red\n",
    "\n",
    "import matplotlib.pyplot as plt"
   ]
  },
  {
   "cell_type": "code",
   "execution_count": 54,
   "metadata": {},
   "outputs": [
    {
     "data": {
      "image/png": "[encoded data removed]",
      "text/plain": [
       "<Figure size 432x288 with 1 Axes>"
      ]
     },
     "metadata": {
      "needs_background": "light"
     },
     "output_type": "display_data"
    }
   ],
   "source": [
    "plt.imshow(t)\n",
    "plt.show()"
   ]
  },
  {
   "cell_type": "code",
   "execution_count": 64,
   "metadata": {},
   "outputs": [
    {
     "name": "stdout",
     "output_type": "stream",
     "text": [
      "(50, 25, 3)\n",
      "[  0 255   0]\n",
      "After taking Transpose\n",
      "(3, 25, 50)\n",
      "custom transpose\n",
      "(3, 50, 25)\n"
     ]
    }
   ],
   "source": [
    "## transpose of a Tensor\n",
    "t = np.zeros((50,25,3),dtype = 'uint8')\n",
    "print(t.shape)\n",
    "t[ : , : ,1]=255 #yellow\n",
    "print(t[0][0])\n",
    "print(\"After taking Transpose\")\n",
    "t1=np.transpose(t)\n",
    "print(t1.shape)\n",
    "\n",
    "print(\"custom transpose\")\n",
    "t2=np.transpose(t,axes=(2,0,1))\n",
    "print(t2.shape)"
   ]
  },
  {
   "cell_type": "markdown",
   "metadata": {},
   "source": [
    "## Broadcasting\n",
    "\n",
    "allows us to add scalar to a vector\n",
    "\n",
    "Matrix operations are element by element"
   ]
  },
  {
   "cell_type": "code",
   "execution_count": 65,
   "metadata": {
    "scrolled": false
   },
   "outputs": [
    {
     "name": "stdout",
     "output_type": "stream",
     "text": [
      "[1 2 3 4]\n",
      "[2 3 4 5]\n"
     ]
    }
   ],
   "source": [
    "x = np.array([1,2,3,4])\n",
    "print(x)\n",
    "print(x+1)"
   ]
  },
  {
   "cell_type": "code",
   "execution_count": 70,
   "metadata": {
    "scrolled": false
   },
   "outputs": [
    {
     "name": "stdout",
     "output_type": "stream",
     "text": [
      "[[10 20 30 40]\n",
      " [50 60 70 80]]\n",
      "[[ 20  40  60  80]\n",
      " [100 120 140 160]]\n",
      "[[ 100  400  900 1600]\n",
      " [2500 3600 4900 6400]]\n",
      "[[0 0 0 0]\n",
      " [0 0 0 0]]\n",
      "[[1. 1. 1. 1.]\n",
      " [1. 1. 1. 1.]]\n"
     ]
    }
   ],
   "source": [
    "x = np.array([[10,20,30,40],[50,60,70,80]])\n",
    "print(x)\n",
    "print(x+x)\n",
    "print(x*x)\n",
    "print(x-x)\n",
    "print(x/x)"
   ]
  },
  {
   "cell_type": "markdown",
   "metadata": {},
   "source": [
    "## Norms"
   ]
  },
  {
   "cell_type": "code",
   "execution_count": 73,
   "metadata": {},
   "outputs": [
    {
     "name": "stdout",
     "output_type": "stream",
     "text": [
      "6.708203932499369\n",
      "9.0\n",
      "6.0\n"
     ]
    }
   ],
   "source": [
    "x = np.array([-3,6])\n",
    "\n",
    "lp2=np.linalg.norm(x)\n",
    "print(lp2)\n",
    "lp1=np.linalg.norm(x,ord=1)\n",
    "print(lp1)\n",
    "lpinf=np.linalg.norm(x,ord=np.inf)\n",
    "print(lpinf)"
   ]
  },
  {
   "cell_type": "code",
   "execution_count": 80,
   "metadata": {},
   "outputs": [
    {
     "name": "stdout",
     "output_type": "stream",
     "text": [
      "-399.9999999999999\n",
      "[[-0.15   0.05 ]\n",
      " [ 0.125 -0.025]]\n",
      "[[1. 0.]\n",
      " [0. 1.]]\n"
     ]
    }
   ],
   "source": [
    "## determinant\n",
    "x = np.array([[10,20],[50,60]])\n",
    "print(np.linalg.det(x))\n",
    "\n",
    "##Inverse \n",
    "matinx=np.linalg.inv(x)\n",
    "print(matinx)\n",
    "\n",
    "print(matinx.dot(x))"
   ]
  },
  {
   "cell_type": "code",
   "execution_count": null,
   "metadata": {},
   "outputs": [],
   "source": []
  }
 ],
 "metadata": {
  "kernelspec": {
   "display_name": "Python 3",
   "language": "python",
   "name": "python3"
  },
  "language_info": {
   "codemirror_mode": {
    "name": "ipython",
    "version": 3
   },
   "file_extension": ".py",
   "mimetype": "text/x-python",
   "name": "python",
   "nbconvert_exporter": "python",
   "pygments_lexer": "ipython3",
   "version": "3.7.4"
  }
 },
 "nbformat": 4,
 "nbformat_minor": 2
}
