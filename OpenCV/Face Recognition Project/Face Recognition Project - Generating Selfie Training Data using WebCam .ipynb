{
 "cells": [
  {
   "cell_type": "code",
   "execution_count": 3,
   "metadata": {},
   "outputs": [],
   "source": [
    "import cv2\n",
    "import numpy as np"
   ]
  },
  {
   "cell_type": "code",
   "execution_count": null,
   "metadata": {},
   "outputs": [
    {
     "name": "stdout",
     "output_type": "stream",
     "text": [
      "1\n",
      "2\n",
      "3\n",
      "4\n",
      "5\n"
     ]
    }
   ],
   "source": [
    "cap = cv2.VideoCapture(0)\n",
    "face_cascade = cv2.CascadeClassifier('E:\\dev\\Data science\\Data-science-master\\OpenCV\\Face Recognition Project\\haarcascade_frontalface_alt.xml')\n",
    "skip=0\n",
    "face_data =[]\n",
    "dataset_path = 'E:\\dev\\Data science\\Data-science-master\\OpenCV\\faces'\n",
    "while True:\n",
    "\tret,frame = cap.read()\n",
    "\n",
    "\tif ret==False:\n",
    "\t\tcontinue\n",
    "\n",
    "\tgray_frame = cv2.cvtColor(frame,cv2.COLOR_BGR2GRAY)\n",
    "\n",
    "\tfaces = face_cascade.detectMultiScale(frame,1.3,5)\n",
    "\tif len(faces)==0:\n",
    "\t\tcontinue\n",
    "\t\t\n",
    "\tfaces = sorted(faces,key=lambda f:f[2]*f[3])\n",
    "\n",
    "\t# Pick the last face (because it is the largest face acc to area(f[2]*f[3]))\n",
    "\tfor face in faces[-1:]:\n",
    "\t\tx,y,w,h = face\n",
    "\t\tcv2.rectangle(frame,(x,y),(x+w,y+h),(0,255,255),2)\n",
    "\n",
    "\t\t#Extract (Crop out the required face) : Region of Interest\n",
    "\t\toffset = 10\n",
    "\t\tface_section = frame[y-offset:y+h+offset,x-offset:x+w+offset]\n",
    "\t\tface_section = cv2.resize(face_section,(100,100))\n",
    "\n",
    "\t\tskip += 1\n",
    "\t\tif skip%10==0:\n",
    "\t\t\tface_data.append(face_section)\n",
    "\t\t\tprint(len(face_data))\n",
    "\n",
    "\n",
    "\tcv2.imshow(\"Frame\",frame)\n",
    "\tcv2.imshow(\"Face Section\",face_section)\n",
    "\n",
    "\tkey_pressed = cv2.waitKey(1) & 0xFF\n",
    "\tif key_pressed == ord('q'):\n",
    "\t\tbreak\n",
    "dace+datanp.asarray(face_data)\n",
    "face_fata=face_data.resahpe((face_fata.shape[0],-1))\n",
    "print(face_data.shape)\n",
    "\n",
    "np.save('laksh'+dataset_path+'.npy',face_data)\n",
    "\n",
    "print(\"Data saved successfully\")\n",
    "cap.release()\n",
    "cv2.destroyAllWindows()\n",
    "\n"
   ]
  },
  {
   "cell_type": "code",
   "execution_count": null,
   "metadata": {},
   "outputs": [],
   "source": []
  },
  {
   "cell_type": "code",
   "execution_count": null,
   "metadata": {},
   "outputs": [],
   "source": []
  }
 ],
 "metadata": {
  "kernelspec": {
   "display_name": "Python 3",
   "language": "python",
   "name": "python3"
  },
  "language_info": {
   "codemirror_mode": {
    "name": "ipython",
    "version": 3
   },
   "file_extension": ".py",
   "mimetype": "text/x-python",
   "name": "python",
   "nbconvert_exporter": "python",
   "pygments_lexer": "ipython3",
   "version": "3.7.4"
  }
 },
 "nbformat": 4,
 "nbformat_minor": 2
}
